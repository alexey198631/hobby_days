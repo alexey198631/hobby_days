{
 "cells": [
  {
   "cell_type": "code",
   "execution_count": 14,
   "id": "cddf846b",
   "metadata": {},
   "outputs": [],
   "source": [
    "import os\n",
    "import pandas as pd"
   ]
  },
  {
   "cell_type": "code",
   "execution_count": 15,
   "id": "cd4d1ac9",
   "metadata": {},
   "outputs": [
    {
     "name": "stderr",
     "output_type": "stream",
     "text": [
      "/var/folders/k0/5mz4jdsj64n5f2jltclyq9zh0000gn/T/ipykernel_23764/1982993532.py:9: FutureWarning: The frame.append method is deprecated and will be removed from pandas in a future version. Use pandas.concat instead.\n",
      "  data = data.append(df, ignore_index=True)\n"
     ]
    }
   ],
   "source": [
    "folder_path = 'data_files'\n",
    "file_list = [file for file in os.listdir(folder_path) if file.startswith('XLS') and file.endswith('.xls')]\n",
    "\n",
    "data = pd.DataFrame()\n",
    "\n",
    "for file in file_list:\n",
    "    file_path = os.path.join(folder_path, file)\n",
    "    df = pd.read_excel(file_path)\n",
    "    data = data.append(df, ignore_index=True)"
   ]
  },
  {
   "cell_type": "code",
   "execution_count": 16,
   "id": "747229ab",
   "metadata": {},
   "outputs": [],
   "source": [
    "# Convert the 'date' column to datetime format\n",
    "df['Transactiedatum'] = pd.to_datetime(df['Transactiedatum'], format='%Y%m%d')\n",
    "\n",
    "# Filter the DataFrame to keep only the rows for the desired month\n",
    "desired_month = '2024-12'  # Specify the desired month in 'YYYY-MM' format\n",
    "filtered_data = df[df['Transactiedatum'].dt.strftime('%Y-%m') == desired_month]"
   ]
  },
  {
   "cell_type": "code",
   "execution_count": 17,
   "id": "f6b333da",
   "metadata": {},
   "outputs": [],
   "source": [
    "filtered_data = filtered_data.loc[:, ['Transactiedatum','Transactiebedrag', 'Omschrijving']]\n",
    "filtered_data['Omschrijving'] = filtered_data['Omschrijving'].str.split('Apple Pay                   ').str[-1]\n",
    "filtered_data['Omschrijving'] = filtered_data['Omschrijving'].str.strip()"
   ]
  },
  {
   "cell_type": "code",
   "execution_count": 18,
   "id": "4ae1f2db",
   "metadata": {},
   "outputs": [
    {
     "data": {
      "text/plain": [
       "5216.74"
      ]
     },
     "execution_count": 18,
     "metadata": {},
     "output_type": "execute_result"
    }
   ],
   "source": [
    "filtered_data['Transactiebedrag'].sum()"
   ]
  },
  {
   "cell_type": "code",
   "execution_count": 19,
   "id": "2dae9d6c",
   "metadata": {},
   "outputs": [],
   "source": [
    "filtered_data = filtered_data.rename(columns={'Transactiebedrag': 'EUR', 'Transactiedatum': 'DATE' , 'Omschrijving':'Comments' })\n",
    "filtered_data['Types'] = 'Expenses'\n",
    "filtered_data['Groups'] = 'D_Monthly'\n",
    "filtered_data['Kindes'] = ''\n",
    "#filtered_data['Comments'] = ''"
   ]
  },
  {
   "cell_type": "code",
   "execution_count": 20,
   "id": "e70de05d",
   "metadata": {},
   "outputs": [],
   "source": [
    "A_Food = ['Servex B.V. Statio','PANDORA PRODUCTIES','MINISO6600LEIDSCHE','Global Supermarkt','Vermolens snackcar','Groszek','SPAR','CARREFOUR ANTWER','Klein Rusland','McGroteMarkt','Chocolate Company','Ann.Almond','COFFEE STAR IN STO','AH to Go','SYSTEMCOM','De Tulp Supermarkt','Agnes Harms','PLUS Meeuwsen','Albert Heijn','OLIEBOLLEN','NSAutomaat ','BOONS MARKT','Heilige Boontjes,','Albert Heijn Konincks', 'HMS Host International,','AH to go', 'Medine Supermarkt','DIRK', 'VendingWork', 'ALBERT', 'JumboVathorst', 'Jumbo']\n",
    "Education = ['Spotify', 'Storytel','INT CARD SERVICES', 'LinkedIn']\n",
    "B_Cafe = ['Van Eeken','IKEA Heerlen','Kermisplaza B.V','McVlamingstraat','Pathe Spuimark','Al Hayat Restaurant','Dutch Language','El Mamma Booga','Brasserie Mondriaa','Ristorante Giuliano','Noodlebar Benelux','thuisfactuur','Simonis B.V.','De Waterreus','Bistro LOFT','Momiji Ramen','SP MOYCHAY','CASEY-S IRISH ','Mangos Beachbar Za,','MCDONALDS','Loyaltek','Escubelle Beachhouse','relexa hotel','Eindhoven McAirport','Espressobar','30ml Amersfoor','STRANDWEG','Lunch- en Eetcafe','Lunchbar Sammy','Seafood Bar Utrecht','Boonoonoonoos','STACH','Nonno Guido','The Cloud Club','HOTEL COURT GARDEN','Cafe Pomegranate','Amal coffee','Birdflower','SunSun Coffee','Amersfoort,PAS181','Plein Horeca','De Belg I Horeca','McD','ALOHA SURF','BURGER N SHAKE','BEESECHURGERS','Loetje','Sonya Company','The Little Apple','ARAN IRISH PUB','LA VACA','Stayokay Amsterdam Oos','Shake','NORMAL UTRECHT','HMSHost Amsterdam Bijl','TJKalisvaart','Marinello','MAATSCHAPPIJ','Raststaette Ohligser','Brioche Doree Theatine','Rastanlage Lonetal','McDonalds','Ohligser Heide West','Cafe De Herberg','WINKEL VAN SINK','Tijm Utrecht','Blin Queen','Amazing Oriental','BEA','Bahnhofkiosk','Coop','HotCh','Selecta Merchant','Piero','Kiosk','Kipland','Starbucks','Orderli ','Kloek', 'Joli Cafe','PIZZA Beppe','Di Mare Binz','AEROPORT BARCELONA','Wachtlokaal','Piazza Viva','Ci Vediamo IJsmakerij','Roberto Gelato','Sodexo', 'Foodticket','Utrechter', 'Luebeck', 'Wismar', 'Last Vegas Utrecht', 'Putgarten', 'Thuisbezorgd', 'KFC', 'Beer Capital', 'CHEZ LEON', 'Madonna', 'Becks','TotalEnergies', 'Dunkin', 'STARBUCKS']\n",
    "Health = ['Stg Entrada Events','Jeanabelle hairsty','IBACH SIPAN STYLE','Swapfiets','TREATWELL']\n",
    "D_Home = ['HEMA EV0350','BLOKKER0577DENHAAG','DUNEA DUIN','Tibber','EtosSavornin','Gamma Loosduinen','Kruidvat','ENECO','Essent', 'Vitens', 'J.M. Siemerink-Riep', 'Stichting de Heeren van']\n",
    "H_Other = ['HMSHost Den Haag Centr','NS Kluis Den Haag','Den Haag CS','Sanifair WC','Action','H_Other','Amsterdam Oost','Vermaat ','OMV 7135','Rotterdam 4208','Basic Package', 'Loonzorg', 'HMSHost Utrecht Centra']\n",
    "Event = ['Partywinkel','Shop 4721','Shop 9','BoulesBitesBar', 'Tikkie']\n",
    "Vacation = ['Hotel Olympia Brugge','Social Hub Den','First City Hotel','FirstCityHotelDenH','Hotel Hague Center','MERCURE DEN HAAG CENTR','Vueling', 'Booking','KLM']\n",
    "F_Presents = ['Alexanderh Sav Lohman','ONLY Spuimarkt','MARIIA TURKINA','Bloemsierkunst','Flying Tiger','NL0510 - COS','Alexanderhoeve Emi','Van Beest Vathorst','Bokstijn Feestartike','We Love Holland','Gall & Gall', 'Cadeautje','Daily Flowers']\n",
    "Salary = ['YOKOGAWA']\n",
    "D_Online = ['ODIDO','vodafone']\n",
    "C_Car = ['Q-Park Operations Holding BV via Mollie','Q-Park','Q-Park','ParkBee']\n",
    "C_Transport = ['PayPal Europe','www.ovpay.nl','NS-Amersfoort','NS GROEP']\n",
    "C_Fuel = ['ESSO Zoetermeer','Shell Station De Kroon','Esso Leusden Doornse','SHELL DE HACKELAAR','Shell Vathorst']\n",
    "Clothes = ['HEMA EV','Hema','Decathlon','Ooms Sport','WE Fashion','C&A','van os tassenkoffers','Chasin','Kathmandu Utrecht','Perry Sport']\n",
    "Tech = ['MM Den Haag','Media Markt Den Haag','bol.com','Thephonelab','Coolblue']\n",
    "G_Recreation = ['Carnegie Stichting Vredespaleis','Sommel via ING Zakelijk Betaalverzoek','Nigmatzyanova.Hr R Karpov','Musea Brugge','Royal Services International','MMI LTD','Pathe de Munt','ING Bank NV Betaalverzoek','Bunq','AndreevBratuhin', 'PATHE THEATER', 'PATHE THEATERS', 'Euromast Horeca']"
   ]
  },
  {
   "cell_type": "code",
   "execution_count": 21,
   "id": "ea867a14",
   "metadata": {},
   "outputs": [],
   "source": [
    "full_list_for_comments = Tech + G_Recreation + A_Food + Education + B_Cafe + Health + D_Home + H_Other + Event + Vacation + F_Presents + Salary + C_Transport + Clothes"
   ]
  },
  {
   "cell_type": "code",
   "execution_count": 22,
   "id": "84b49c5f",
   "metadata": {},
   "outputs": [],
   "source": [
    "# Update the 'description' column based on the conditions\n",
    "filtered_data.loc[filtered_data['Comments'].str.contains('|'.join(A_Food)), 'Kindes'] = 'A_Food'\n",
    "\n",
    "filtered_data.loc[filtered_data['Comments'].str.contains('|'.join(Tech)), ['Groups', 'Kindes']] = ['B_Materials','Tech']\n",
    "filtered_data.loc[filtered_data['Comments'].str.contains('|'.join(Education)), ['Groups', 'Kindes']] = ['A_Prior', 'Education']\n",
    "filtered_data.loc[filtered_data['Comments'].str.contains('|'.join(B_Cafe)), 'Kindes'] = 'B_Cafe'\n",
    "filtered_data.loc[filtered_data['Comments'].str.contains('|'.join(Health)), ['Groups', 'Kindes']] = ['A_Prior', 'Health']\n",
    "filtered_data.loc[filtered_data['Comments'].str.contains('|'.join(D_Home)), 'Kindes'] = 'D_Home'\n",
    "filtered_data.loc[filtered_data['Comments'].str.contains('|'.join(D_Online)), 'Kindes'] = 'D_Online'\n",
    "filtered_data.loc[filtered_data['Comments'].str.contains('|'.join(H_Other)), 'Kindes'] = 'H_Other'\n",
    "filtered_data.loc[filtered_data['Comments'].str.contains('|'.join(Event)), ['Groups', 'Kindes']] = ['A_Prior', 'Event']\n",
    "filtered_data.loc[filtered_data['Comments'].str.contains('|'.join(Vacation)), ['Groups', 'Kindes']] = ['A_Prior', 'Vacation']\n",
    "filtered_data.loc[filtered_data['Comments'].str.contains('|'.join(F_Presents)), 'Kindes'] = 'F_Presents'\n",
    "filtered_data.loc[filtered_data['Comments'].str.contains('|'.join(C_Transport)), 'Kindes'] = 'C_Transport'\n",
    "filtered_data.loc[filtered_data['Comments'].str.contains('|'.join(C_Fuel)), 'Kindes'] = 'C_Fuel'\n",
    "filtered_data.loc[filtered_data['Comments'].str.contains('|'.join(C_Car)), 'Kindes'] = 'C_Car'\n",
    "filtered_data.loc[filtered_data['Comments'].str.contains('|'.join(G_Recreation)), 'Kindes'] = 'G_Recreation'\n",
    "filtered_data.loc[filtered_data['Comments'].str.contains('|'.join(Clothes)), ['Groups', 'Kindes']] = ['B_Materials','Clothes']\n",
    "\n",
    "filtered_data.loc[filtered_data['Comments'].str.contains('|'.join(Salary)), ['Types', 'Groups', 'Kindes']] = ['Revenue','Income','Salary']"
   ]
  },
  {
   "cell_type": "code",
   "execution_count": 23,
   "id": "fb62665f",
   "metadata": {},
   "outputs": [],
   "source": [
    "for value in full_list_for_comments:\n",
    "    filtered_data.loc[filtered_data['Comments'].str.contains(value), 'Additional'] = value\n",
    "\n",
    "filtered_data['Additional'] = filtered_data['Additional'].fillna(filtered_data['Comments'] )\n",
    "filtered_data['Comments'] = filtered_data['Additional']\n",
    "filtered_data.drop('Additional', axis=1, inplace=True)\n",
    "\n",
    "filtered_data = filtered_data[['DATE', 'EUR', 'Types', 'Groups', 'Kindes' , 'Comments']]"
   ]
  },
  {
   "cell_type": "code",
   "execution_count": 24,
   "id": "f23eeb92",
   "metadata": {},
   "outputs": [],
   "source": [
    "xx = filtered_data[filtered_data['Kindes']=='']"
   ]
  },
  {
   "cell_type": "code",
   "execution_count": 25,
   "id": "3874cd70",
   "metadata": {},
   "outputs": [
    {
     "data": {
      "text/html": [
       "<div>\n",
       "<style scoped>\n",
       "    .dataframe tbody tr th:only-of-type {\n",
       "        vertical-align: middle;\n",
       "    }\n",
       "\n",
       "    .dataframe tbody tr th {\n",
       "        vertical-align: top;\n",
       "    }\n",
       "\n",
       "    .dataframe thead th {\n",
       "        text-align: right;\n",
       "    }\n",
       "</style>\n",
       "<table border=\"1\" class=\"dataframe\">\n",
       "  <thead>\n",
       "    <tr style=\"text-align: right;\">\n",
       "      <th></th>\n",
       "      <th>DATE</th>\n",
       "      <th>EUR</th>\n",
       "      <th>Types</th>\n",
       "      <th>Groups</th>\n",
       "      <th>Kindes</th>\n",
       "      <th>Comments</th>\n",
       "    </tr>\n",
       "  </thead>\n",
       "  <tbody>\n",
       "  </tbody>\n",
       "</table>\n",
       "</div>"
      ],
      "text/plain": [
       "Empty DataFrame\n",
       "Columns: [DATE, EUR, Types, Groups, Kindes, Comments]\n",
       "Index: []"
      ]
     },
     "execution_count": 25,
     "metadata": {},
     "output_type": "execute_result"
    }
   ],
   "source": [
    "xx"
   ]
  },
  {
   "cell_type": "code",
   "execution_count": 26,
   "id": "3009a9c4",
   "metadata": {},
   "outputs": [],
   "source": [
    "writer = pd.ExcelWriter('data_files/filtered_data_14.xlsx')\n",
    "filtered_data.to_excel(writer, sheet_name = 'filtered_data')\n",
    "writer.close()"
   ]
  },
  {
   "cell_type": "code",
   "execution_count": null,
   "id": "64a774b9",
   "metadata": {},
   "outputs": [],
   "source": []
  },
  {
   "cell_type": "code",
   "execution_count": null,
   "id": "05ac2555",
   "metadata": {},
   "outputs": [],
   "source": []
  }
 ],
 "metadata": {
  "kernelspec": {
   "display_name": "Python 3 (ipykernel)",
   "language": "python",
   "name": "python3"
  },
  "language_info": {
   "codemirror_mode": {
    "name": "ipython",
    "version": 3
   },
   "file_extension": ".py",
   "mimetype": "text/x-python",
   "name": "python",
   "nbconvert_exporter": "python",
   "pygments_lexer": "ipython3",
   "version": "3.9.12"
  }
 },
 "nbformat": 4,
 "nbformat_minor": 5
}
