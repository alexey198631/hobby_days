{
 "cells": [
  {
   "cell_type": "code",
   "execution_count": 14,
   "id": "954bab3d",
   "metadata": {},
   "outputs": [],
   "source": [
    "import openpyxl\n",
    "\n",
    "def create_dataframe_dict_from_excel(file_path):\n",
    "    try:\n",
    "        workbook = openpyxl.load_workbook(file_path)\n",
    "        sheet_names = workbook.sheetnames\n",
    "        df_dict = {}\n",
    "\n",
    "        for sheet_name in sheet_names:\n",
    "            sheet = workbook[sheet_name]\n",
    "            data = []\n",
    "            for row in sheet.iter_rows(values_only=True):\n",
    "                data.append(row)\n",
    "            \n",
    "            columns = data[0]\n",
    "            rows = data[1:]\n",
    "            df = pd.DataFrame(rows, columns=columns)\n",
    "            df_dict[sheet_name] = df\n",
    "        \n",
    "        return df_dict\n",
    "    except Exception as e:\n",
    "        print(f\"Error occurred: {e}\")\n",
    "        return None\n",
    "\n",
    "file_path = 'data_files/Days.xlsx'\n",
    "dataframes_dict = create_dataframe_dict_from_excel(file_path)"
   ]
  },
  {
   "cell_type": "code",
   "execution_count": null,
   "id": "c801eb87",
   "metadata": {},
   "outputs": [],
   "source": []
  }
 ],
 "metadata": {
  "kernelspec": {
   "display_name": "Python 3 (ipykernel)",
   "language": "python",
   "name": "python3"
  },
  "language_info": {
   "codemirror_mode": {
    "name": "ipython",
    "version": 3
   },
   "file_extension": ".py",
   "mimetype": "text/x-python",
   "name": "python",
   "nbconvert_exporter": "python",
   "pygments_lexer": "ipython3",
   "version": "3.9.12"
  }
 },
 "nbformat": 4,
 "nbformat_minor": 5
}
