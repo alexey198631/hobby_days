{
 "cells": [
  {
   "cell_type": "code",
   "execution_count": 104,
   "id": "5c521f65",
   "metadata": {},
   "outputs": [],
   "source": [
    "\"\"\"\n",
    "I need to split and place in xls file information from txt file in the following format:\n",
    "\n",
    "Time start or above finish - time finish - description (first capital) - (lang) из списка - (activity) \n",
    "if lang - out - distance\n",
    "\n",
    "separator \"-\"\n",
    "\n",
    "\"\"\"\n",
    "import datetime\n",
    "import pandas as pd"
   ]
  },
  {
   "cell_type": "code",
   "execution_count": 98,
   "id": "6fa9507a",
   "metadata": {},
   "outputs": [],
   "source": [
    "data_f = []\n",
    "prev = '19:15'\n",
    "new_date = '22.02.2023'\n",
    "count = 0\n",
    "with open('data_files/time.txt', 'r') as file:\n",
    "    for line in file:\n",
    "        count += 1\n",
    "        parts = line.strip().split('-')\n",
    "        parts = [s.strip() for s in parts]\n",
    "        #if len(parts) <= 2:\n",
    "        #    print(parts)\n",
    "        if len(parts) > 2:\n",
    "            if parts[0] == '':\n",
    "                parts[0] = prev\n",
    "            prev = parts[1]\n",
    "            data_f.append(parts)\n",
    "        else:\n",
    "            try:\n",
    "                new_date = datetime.datetime.strptime(parts[0] + '/2023', '%d/%m/%Y').strftime('%d.%m.%Y')\n",
    "                #data_f.append(new_date)\n",
    "            except:\n",
    "                pass\n",
    "        parts.insert(0, new_date)\n",
    "            \n",
    "\n",
    "final_df = pd.DataFrame(columns=['DATE', 'START','FINISH', 'DESCRIPTION', 'LANGUAGE','LANG TYPE','IN/OUT'])\n",
    "\n",
    "for i, el in enumerate(data_f):\n",
    "    final_df.loc[i,'DATE'] = el[0]\n",
    "    final_df.loc[i,'START'] = el[1]\n",
    "    final_df.loc[i,'FINISH'] = el[2]\n",
    "    final_df.loc[i,'DESCRIPTION'] = el[3].capitalize()\n",
    "    \n",
    "    \n",
    "    try:\n",
    "        if el[4].lower() in ['rus','eng','spa','dut']:\n",
    "            final_df.loc[i,'LANGUAGE'] = el[4].upper()\n",
    "        elif el[4] in ['in','out']:\n",
    "            final_df.loc[i,'IN/OUT'] = el[4].upper()\n",
    "    except:\n",
    "        pass\n",
    "\n",
    "    try:\n",
    "        if el[5] in ['speak','read','write','watch','list']:\n",
    "            final_df.loc[i,'LANG TYPE'] = el[5].upper()\n",
    "        \n",
    "    except:\n",
    "        pass"
   ]
  },
  {
   "cell_type": "code",
   "execution_count": 100,
   "id": "69f3dcd2",
   "metadata": {},
   "outputs": [],
   "source": [
    "writer = pd.ExcelWriter('data_files/time.xlsx', engine='xlsxwriter')\n",
    "final_df.to_excel(writer, sheet_name='timing')\n",
    "writer.save()"
   ]
  },
  {
   "cell_type": "code",
   "execution_count": 101,
   "id": "0b25f6b9",
   "metadata": {},
   "outputs": [],
   "source": [
    "out_d = []\n",
    "for el in data_f:\n",
    "    if 'out' in el:\n",
    "        out_d.append(el)"
   ]
  },
  {
   "cell_type": "code",
   "execution_count": 102,
   "id": "c5cedcf8",
   "metadata": {},
   "outputs": [],
   "source": [
    "out_df = pd.DataFrame(columns=['DATE', 'START','FINISH'])\n",
    "for i, el in enumerate(out_d):\n",
    "    out_df.loc[i,'DATE'] = el[0]\n",
    "    out_df.loc[i,'START'] = el[1]\n",
    "    out_df.loc[i,'FINISH'] = el[2]"
   ]
  },
  {
   "cell_type": "code",
   "execution_count": 103,
   "id": "0086d41c",
   "metadata": {},
   "outputs": [],
   "source": [
    "writer = pd.ExcelWriter('data_files/out.xlsx', engine='xlsxwriter')\n",
    "out_df.to_excel(writer, sheet_name='timing')\n",
    "writer.save()"
   ]
  }
 ],
 "metadata": {
  "kernelspec": {
   "display_name": "Python 3 (ipykernel)",
   "language": "python",
   "name": "python3"
  },
  "language_info": {
   "codemirror_mode": {
    "name": "ipython",
    "version": 3
   },
   "file_extension": ".py",
   "mimetype": "text/x-python",
   "name": "python",
   "nbconvert_exporter": "python",
   "pygments_lexer": "ipython3",
   "version": "3.9.12"
  }
 },
 "nbformat": 4,
 "nbformat_minor": 5
}
